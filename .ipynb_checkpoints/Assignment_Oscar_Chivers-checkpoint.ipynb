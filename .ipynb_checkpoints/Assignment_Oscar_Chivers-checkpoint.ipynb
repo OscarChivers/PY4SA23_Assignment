{
 "cells": [
  {
   "cell_type": "markdown",
   "id": "89da11d7-8c61-454a-863d-80cec0b128db",
   "metadata": {},
   "source": [
    "## Lab Assignment - Oscar Chivers\n",
    "\n",
    "### Student ID - 190012624\n",
    "\n",
    "URL: https://github.com/OscarChivers/PY4SA23_Assignment"
   ]
  },
  {
   "cell_type": "markdown",
   "id": "107cc451-c4b0-4309-937e-cbe6c866427a",
   "metadata": {},
   "source": [
    "### Python Basics Code\n",
    "\n",
    "Task 1: Create an If...Else statement that will test whether a number is divisible by three. \"YOUR\n",
    "VALUE is divisible by 3\" should be printed if the value is divisible by three. \"YOUR VALUE is not\n",
    "divisible by three\" should be printed if it is not divisible by three. Test the statement on a numeric\n",
    "variable. Upper case text in the print statement should be replaced with the tested number."
   ]
  },
  {
   "cell_type": "code",
   "execution_count": 7,
   "id": "06f87d6f-c67f-4093-afe1-428fb91b68b0",
   "metadata": {},
   "outputs": [
    {
     "name": "stdin",
     "output_type": "stream",
     "text": [
      "Enter your number:  45\n"
     ]
    },
    {
     "name": "stdout",
     "output_type": "stream",
     "text": [
      "45 is divisible by 3\n"
     ]
    }
   ],
   "source": [
    "num = int(input(\"Enter your number: \"))\n",
    "\n",
    "if num%3 == 0:\n",
    "    print(num,\"is divisible by 3\")\n",
    "\n",
    "else: \n",
    "    print(num,\"is not divisible by 3\")"
   ]
  },
  {
   "cell_type": "markdown",
   "id": "745dd022-7d55-4a5a-9120-c05b8c7361e4",
   "metadata": {},
   "source": [
    "Task 2: Create an If...Else statement that will test whether a type of fruit, represented as a text string,\n",
    "is in a list of acceptable fruits (apple, orange, pear, kiwi, or strawberry). If the fruit is on the list, the\n",
    "following should be printed: \"YOUR FRUIT is acceptable.\" If not, then the following should be\n",
    "printed: \"YOUR FRUIT is not acceptable.\" Upper case text in the print statement should be replaced\n",
    "with the tested fruit."
   ]
  },
  {
   "cell_type": "code",
   "execution_count": 3,
   "id": "35d406bb-7d70-4b54-bfce-d5e2f82034b1",
   "metadata": {},
   "outputs": [
    {
     "name": "stdin",
     "output_type": "stream",
     "text": [
      "Enter your fruit:  apple\n"
     ]
    },
    {
     "name": "stdout",
     "output_type": "stream",
     "text": [
      "apple is acceptable\n"
     ]
    }
   ],
   "source": [
    "fruit_list = [\"apple\", \"orange\", \"pear\", \"kiwi\", \"strawberry\"]\n",
    "\n",
    "fruit = input(\"Enter your fruit: \")\n",
    "\n",
    "if fruit in fruit_list:\n",
    "    print(fruit, \"is acceptable\")\n",
    "    \n",
    "else:\n",
    "    print(fruit, \"is not acceptable\")"
   ]
  },
  {
   "cell_type": "markdown",
   "id": "ced14c46-1657-4f08-9604-541e299645f4",
   "metadata": {},
   "source": [
    "Task 3: Create a function to calculate the distance between two coordinates using the haversine\n",
    "formula. Write the following formula where the input parameters are a pair of coordinates as two\n",
    "lists."
   ]
  },
  {
   "cell_type": "code",
   "execution_count": 28,
   "id": "242b9364-f83e-4317-bdac-816d0d5d4ea1",
   "metadata": {},
   "outputs": [
    {
     "name": "stdout",
     "output_type": "stream",
     "text": [
      "562.1736585422972\n"
     ]
    }
   ],
   "source": [
    "import math \n",
    "import numpy as np\n",
    "\n",
    "def haversine(lat1, lon1, lat2, lon2):\n",
    "    lat1 = math.radians(lat1)\n",
    "    lon1 = math.radians(lon1)\n",
    "    lat2 = math.radians(lat2)\n",
    "    lon2 = math.radians(lon2)\n",
    "    \n",
    "    a = math.sin((lat2 - lat1)/2)**2 + math.cos(lat1) * math.cos(lat2) * math.sin((lon2 - lon1)/2)**2\n",
    "    \n",
    "    c = 2 * math.atan2(math.sqrt(a), math.sqrt(1 - a))\n",
    "    \n",
    "    R = 6371\n",
    "    \n",
    "    return c*R\n",
    "\n",
    "z = haversine(56.3, 2.8, 51.5, 0.1)\n",
    "print(z)\n",
    "\n",
    "#having issue with radians section solved it through chat gpt so maybe have a look at magnus'\n",
    "# also i have put in my coordinates rather than having put them in "
   ]
  },
  {
   "cell_type": "code",
   "execution_count": 24,
   "id": "5d2c4876-aab2-445e-9f6d-8e60f97b52e2",
   "metadata": {},
   "outputs": [
    {
     "name": "stdout",
     "output_type": "stream",
     "text": [
      "2\n",
      "13\n"
     ]
    }
   ],
   "source": []
  }
 ],
 "metadata": {
  "kernelspec": {
   "display_name": "Python 3 (ipykernel)",
   "language": "python",
   "name": "python3"
  },
  "language_info": {
   "codemirror_mode": {
    "name": "ipython",
    "version": 3
   },
   "file_extension": ".py",
   "mimetype": "text/x-python",
   "name": "python",
   "nbconvert_exporter": "python",
   "pygments_lexer": "ipython3",
   "version": "3.10.9"
  }
 },
 "nbformat": 4,
 "nbformat_minor": 5
}
